{
 "cells": [
  {
   "cell_type": "code",
   "execution_count": 24,
   "id": "154b3fb5-a1b3-426c-ba5d-9b226f41b884",
   "metadata": {},
   "outputs": [],
   "source": [
    "import requests\n",
    "from bs4 import BeautifulSoup\n",
    "import re\n",
    "import pandas as pd\n",
    "from datetime import date, datetime, timedelta\n",
    "from tqdm import tqdm\n",
    "import time\n",
    "import json\n",
    "import re\n",
    "from ast import literal_eval"
   ]
  },
  {
   "cell_type": "code",
   "execution_count": 44,
   "id": "93f2e2da-2de2-4dbf-86bc-112a971064e0",
   "metadata": {},
   "outputs": [],
   "source": [
    "start_url = 'https://www.transparency.org/api/latest/cpi'"
   ]
  },
  {
   "cell_type": "code",
   "execution_count": 45,
   "id": "4104f3b1-c5de-4109-b863-ca997a015025",
   "metadata": {},
   "outputs": [],
   "source": [
    "response = requests.get(start_url).json()"
   ]
  },
  {
   "cell_type": "code",
   "execution_count": 46,
   "id": "60e4f9b6-7644-4b79-8fa6-8b117f4de5cf",
   "metadata": {},
   "outputs": [],
   "source": [
    "df = pd.DataFrame(response)"
   ]
  },
  {
   "cell_type": "code",
   "execution_count": 87,
   "id": "88b9aea2-6e01-4d01-92d6-7cda7e29cbe2",
   "metadata": {},
   "outputs": [],
   "source": [
    "df.to_csv('transparency_active.csv')"
   ]
  },
  {
   "cell_type": "code",
   "execution_count": 92,
   "id": "3e2785fc-1ede-4e42-95a5-5f03c26a6d7c",
   "metadata": {},
   "outputs": [
    {
     "data": {
      "text/plain": [
       "2012"
      ]
     },
     "execution_count": 92,
     "metadata": {},
     "output_type": "execute_result"
    }
   ],
   "source": [
    "df.year.min()"
   ]
  },
  {
   "cell_type": "code",
   "execution_count": 25,
   "id": "b9f54ed7-84cc-4abd-8cbe-8589ed2fd538",
   "metadata": {},
   "outputs": [],
   "source": [
    "end_year = 2012\n",
    "start_year = 1995"
   ]
  },
  {
   "cell_type": "code",
   "execution_count": 28,
   "id": "6fbb8694-d9a9-4f44-b3a0-c45431f3a3f6",
   "metadata": {},
   "outputs": [
    {
     "name": "stderr",
     "output_type": "stream",
     "text": [
      "100%|███████████████████████████████████████████| 17/17 [00:31<00:00,  1.83s/it]\n"
     ]
    }
   ],
   "source": [
    "legacy_list = []\n",
    "for year in tqdm(range(start_year, end_year)):\n",
    "    legacy_response = requests.get(f'https://www.transparency.org/en/cpi/{year}')\n",
    "    legacy = pd.DataFrame(literal_eval(re.findall(r'window.cpiData = \\[(.*?)\\]', legacy_response.text)[0].replace('\\\\', '')))\n",
    "    legacy['year'] = year\n",
    "    legacy_list.append(legacy)"
   ]
  },
  {
   "cell_type": "code",
   "execution_count": 29,
   "id": "0d3ee287-8ac0-4f08-b9c9-b1adb4bdc275",
   "metadata": {},
   "outputs": [],
   "source": [
    "df_legacy = pd.concat(legacy_list).reset_index(drop=True)"
   ]
  },
  {
   "cell_type": "code",
   "execution_count": 33,
   "id": "746a783f-26de-4be3-b709-b879546373b6",
   "metadata": {},
   "outputs": [
    {
     "data": {
      "text/html": [
       "<div>\n",
       "<style scoped>\n",
       "    .dataframe tbody tr th:only-of-type {\n",
       "        vertical-align: middle;\n",
       "    }\n",
       "\n",
       "    .dataframe tbody tr th {\n",
       "        vertical-align: top;\n",
       "    }\n",
       "\n",
       "    .dataframe thead th {\n",
       "        text-align: right;\n",
       "    }\n",
       "</style>\n",
       "<table border=\"1\" class=\"dataframe\">\n",
       "  <thead>\n",
       "    <tr style=\"text-align: right;\">\n",
       "      <th></th>\n",
       "      <th>country</th>\n",
       "      <th>iso</th>\n",
       "      <th>region</th>\n",
       "      <th>score</th>\n",
       "      <th>rank</th>\n",
       "      <th>change</th>\n",
       "      <th>year</th>\n",
       "      <th>standard_deviation</th>\n",
       "      <th>range</th>\n",
       "    </tr>\n",
       "  </thead>\n",
       "  <tbody>\n",
       "    <tr>\n",
       "      <th>0</th>\n",
       "      <td>New Zealand</td>\n",
       "      <td>NZL</td>\n",
       "      <td>AP</td>\n",
       "      <td>9.55</td>\n",
       "      <td>1</td>\n",
       "      <td>0</td>\n",
       "      <td>1995</td>\n",
       "      <td>NaN</td>\n",
       "      <td>NaN</td>\n",
       "    </tr>\n",
       "    <tr>\n",
       "      <th>1</th>\n",
       "      <td>Denmark</td>\n",
       "      <td>DNK</td>\n",
       "      <td>WE/EU</td>\n",
       "      <td>9.32</td>\n",
       "      <td>2</td>\n",
       "      <td>0</td>\n",
       "      <td>1995</td>\n",
       "      <td>NaN</td>\n",
       "      <td>NaN</td>\n",
       "    </tr>\n",
       "    <tr>\n",
       "      <th>2</th>\n",
       "      <td>Singapore</td>\n",
       "      <td>SGP</td>\n",
       "      <td>AP</td>\n",
       "      <td>9.26</td>\n",
       "      <td>3</td>\n",
       "      <td>0</td>\n",
       "      <td>1995</td>\n",
       "      <td>NaN</td>\n",
       "      <td>NaN</td>\n",
       "    </tr>\n",
       "    <tr>\n",
       "      <th>3</th>\n",
       "      <td>Finland</td>\n",
       "      <td>FIN</td>\n",
       "      <td>WE/EU</td>\n",
       "      <td>9.12</td>\n",
       "      <td>4</td>\n",
       "      <td>0</td>\n",
       "      <td>1995</td>\n",
       "      <td>NaN</td>\n",
       "      <td>NaN</td>\n",
       "    </tr>\n",
       "    <tr>\n",
       "      <th>4</th>\n",
       "      <td>Canada</td>\n",
       "      <td>CAN</td>\n",
       "      <td>AME</td>\n",
       "      <td>8.87</td>\n",
       "      <td>5</td>\n",
       "      <td>0</td>\n",
       "      <td>1995</td>\n",
       "      <td>NaN</td>\n",
       "      <td>NaN</td>\n",
       "    </tr>\n",
       "    <tr>\n",
       "      <th>...</th>\n",
       "      <td>...</td>\n",
       "      <td>...</td>\n",
       "      <td>...</td>\n",
       "      <td>...</td>\n",
       "      <td>...</td>\n",
       "      <td>...</td>\n",
       "      <td>...</td>\n",
       "      <td>...</td>\n",
       "      <td>...</td>\n",
       "    </tr>\n",
       "    <tr>\n",
       "      <th>2111</th>\n",
       "      <td>Venezuela</td>\n",
       "      <td>VEN</td>\n",
       "      <td>AME</td>\n",
       "      <td>1.9</td>\n",
       "      <td>172</td>\n",
       "      <td>3</td>\n",
       "      <td>2011</td>\n",
       "      <td>0.1</td>\n",
       "      <td>NaN</td>\n",
       "    </tr>\n",
       "    <tr>\n",
       "      <th>2112</th>\n",
       "      <td>Vietnam</td>\n",
       "      <td>VNM</td>\n",
       "      <td>AP</td>\n",
       "      <td>2.9</td>\n",
       "      <td>112</td>\n",
       "      <td>15</td>\n",
       "      <td>2011</td>\n",
       "      <td>0.17</td>\n",
       "      <td>NaN</td>\n",
       "    </tr>\n",
       "    <tr>\n",
       "      <th>2113</th>\n",
       "      <td>Yemen</td>\n",
       "      <td>YEM</td>\n",
       "      <td>MENA</td>\n",
       "      <td>2.1</td>\n",
       "      <td>164</td>\n",
       "      <td>-10</td>\n",
       "      <td>2011</td>\n",
       "      <td>0.12</td>\n",
       "      <td>NaN</td>\n",
       "    </tr>\n",
       "    <tr>\n",
       "      <th>2114</th>\n",
       "      <td>Zambia</td>\n",
       "      <td>ZMB</td>\n",
       "      <td>SSA</td>\n",
       "      <td>3.2</td>\n",
       "      <td>91</td>\n",
       "      <td>19</td>\n",
       "      <td>2011</td>\n",
       "      <td>0.31</td>\n",
       "      <td>NaN</td>\n",
       "    </tr>\n",
       "    <tr>\n",
       "      <th>2115</th>\n",
       "      <td>Zimbabwe</td>\n",
       "      <td>ZWE</td>\n",
       "      <td>SSA</td>\n",
       "      <td>2.2</td>\n",
       "      <td>154</td>\n",
       "      <td>-8</td>\n",
       "      <td>2011</td>\n",
       "      <td>0.37</td>\n",
       "      <td>NaN</td>\n",
       "    </tr>\n",
       "  </tbody>\n",
       "</table>\n",
       "<p>2116 rows × 9 columns</p>\n",
       "</div>"
      ],
      "text/plain": [
       "          country  iso region score rank  change  year standard_deviation  \\\n",
       "0     New Zealand  NZL     AP  9.55    1       0  1995                NaN   \n",
       "1         Denmark  DNK  WE/EU  9.32    2       0  1995                NaN   \n",
       "2       Singapore  SGP     AP  9.26    3       0  1995                NaN   \n",
       "3         Finland  FIN  WE/EU  9.12    4       0  1995                NaN   \n",
       "4          Canada  CAN    AME  8.87    5       0  1995                NaN   \n",
       "...           ...  ...    ...   ...  ...     ...   ...                ...   \n",
       "2111    Venezuela  VEN    AME   1.9  172       3  2011                0.1   \n",
       "2112      Vietnam  VNM     AP   2.9  112      15  2011               0.17   \n",
       "2113        Yemen  YEM   MENA   2.1  164     -10  2011               0.12   \n",
       "2114       Zambia  ZMB    SSA   3.2   91      19  2011               0.31   \n",
       "2115     Zimbabwe  ZWE    SSA   2.2  154      -8  2011               0.37   \n",
       "\n",
       "     range  \n",
       "0      NaN  \n",
       "1      NaN  \n",
       "2      NaN  \n",
       "3      NaN  \n",
       "4      NaN  \n",
       "...    ...  \n",
       "2111   NaN  \n",
       "2112   NaN  \n",
       "2113   NaN  \n",
       "2114   NaN  \n",
       "2115   NaN  \n",
       "\n",
       "[2116 rows x 9 columns]"
      ]
     },
     "execution_count": 33,
     "metadata": {},
     "output_type": "execute_result"
    }
   ],
   "source": [
    "df_legacy.rename({'interval': 'standard_deviation'}, axis=1)"
   ]
  },
  {
   "cell_type": "code",
   "execution_count": 34,
   "id": "ebe9a96e-6d3a-4a37-a686-70eab272359f",
   "metadata": {},
   "outputs": [],
   "source": [
    "df_legacy.to_csv('transparency_legacy.csv')"
   ]
  },
  {
   "cell_type": "code",
   "execution_count": 22,
   "id": "c66c55fd-ef96-416e-b43c-14fafe91b425",
   "metadata": {},
   "outputs": [],
   "source": [
    "pd.read_stata('wgidataset.dta').to_csv('wgidataset.csv')"
   ]
  },
  {
   "cell_type": "code",
   "execution_count": null,
   "id": "fbbcb4b7-f7b9-47f9-8540-b2bbc6aff71b",
   "metadata": {},
   "outputs": [],
   "source": []
  }
 ],
 "metadata": {
  "kernelspec": {
   "display_name": "Python 3 (ipykernel)",
   "language": "python",
   "name": "python3"
  },
  "language_info": {
   "codemirror_mode": {
    "name": "ipython",
    "version": 3
   },
   "file_extension": ".py",
   "mimetype": "text/x-python",
   "name": "python",
   "nbconvert_exporter": "python",
   "pygments_lexer": "ipython3",
   "version": "3.9.6"
  }
 },
 "nbformat": 4,
 "nbformat_minor": 5
}
